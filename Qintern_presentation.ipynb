{
  "nbformat": 4,
  "nbformat_minor": 0,
  "metadata": {
    "colab": {
      "provenance": [],
      "authorship_tag": "ABX9TyPRRUB1HAg/TOouYm1fTaoi",
      "include_colab_link": true
    },
    "kernelspec": {
      "name": "python3",
      "display_name": "Python 3"
    },
    "language_info": {
      "name": "python"
    }
  },
  "cells": [
    {
      "cell_type": "markdown",
      "metadata": {
        "id": "view-in-github",
        "colab_type": "text"
      },
      "source": [
        "<a href=\"https://colab.research.google.com/github/jajapuramshivasai/Q24_2/blob/main/Qintern_presentation.ipynb\" target=\"_parent\"><img src=\"https://colab.research.google.com/assets/colab-badge.svg\" alt=\"Open In Colab\"/></a>"
      ]
    },
    {
      "cell_type": "markdown",
      "source": [
        "# 1. Introduction (2-3 minutes) #\n",
        "## |-----|project overview : ##\n",
        "\n",
        "### HHL (Harrow-Hassidim-Lloyd) Algorithm\n",
        "\n",
        "The HHL algorithm is a quantum algorithm that solves systems of linear equations, including wave equations. It was developed by Harrow, Hassidim, and Lloyd in 2009.\n",
        "\n",
        "### Wave Equations\n",
        "\n",
        "Wave equations are a fundamental type of partial differential equation (PDE) that describe the propagation of waves. They are commonly used to model various physical phenomena, such as:\n",
        "\n",
        "**Quantum mechanics (Schrödinger equation)**\n",
        "\n",
        "**Electromagnetism (Maxwell's equations)**\n",
        "\n",
        "**Acoustics (wave propagation in fluids and solids)**\n",
        "\n",
        "### Solving Wave Equations with HHL\n",
        "\n",
        "The HHL algorithm can be used to solve wave equations by:\n",
        "1. Discretization: Discretize the wave equation into a system of linear equations.\n",
        "2. Quantization: Convert the linear system into a quantum system.\n",
        "3. HHL Algorithm: Apply the HHL algorithm to solve the quantum system.\n",
        "4. Post-processing: Extract the solution to the original wave equation from the output of the HHL algorithm.\n",
        "\n",
        "#### Advantages\n",
        "\n",
        "The HHL algorithm offers several advantages over classical methods for solving wave equations, including:\n",
        "\n",
        "1. Exponential speedup: HHL can solve certain wave equations exponentially faster than classical methods.\n",
        "2. High precision: HHL can provide highly accurate solutions, even for large systems.\n",
        "\n",
        "#### Challenges\n",
        "\n",
        "However, the HHL algorithm also has some challenges and limitations, including:\n",
        "\n",
        "1. Noise and error correction: Quantum computers are prone to noise and errors, which can affect the accuracy of the solution.\n",
        "2. Scalability: Currently, the HHL algorithm is limited to small-scale problems. Scaling up to larger problems is an active area of research.\n"
      ],
      "metadata": {
        "id": "LauNr4sPaO-c"
      }
    },
    {
      "cell_type": "markdown",
      "source": [
        "Looking at the wave equation $\\frac{d^2 \\Psi}{dt^2} - {C^2}\\frac{d^2 \\Psi}{dr^2}  = 0$ to escribes how waves propagate in various media, including fluids and solids. In the context of acoustics, this equation can be used to model sound waves propagating through air or other materials."
      ],
      "metadata": {
        "id": "TxlVxysfbtmy"
      }
    },
    {
      "cell_type": "code",
      "source": [
        "-------------------"
      ],
      "metadata": {
        "id": "1a8g4H7UaRZ_"
      },
      "execution_count": null,
      "outputs": []
    },
    {
      "cell_type": "markdown",
      "source": [
        "#2. Background and Theory (3-4 minutes)#\n",
        "\n",
        "We let\n",
        "$\n",
        "u(x, y,t) $= deflection of membrane from equilibrium a\n",
        "positio$n (x, $y) a $time$\n",
        "t.\n",
        "\n",
        "For a fixed $t$, the surface $z = u(x, y,t)$ gives the shape of the\n",
        "membrane at time $ $t\n",
        "\n",
        "Under ideal assumptions (e.g. uniform membrane density, uniform\n",
        "tension, no resistance to motion, small deflection, etc.) one can\n",
        "show that u satisfies *the two dimensional wave equation*.\n"
      ],
      "metadata": {
        "id": "00Y78zBscPAH"
      }
    },
    {
      "cell_type": "markdown",
      "source": [
        "$U(tt) = C^2 \\nabla^2 u = C^2(Uxx + Uyy)$  for 0 < x < a, 0 < y < b"
      ],
      "metadata": {
        "id": "L7TZMdTIdYwY"
      }
    },
    {
      "cell_type": "markdown",
      "source": [
        "$C^2 = \\frac{\\tau}{\\rho}$\n",
        "\n",
        "where τ is the tension per unit length, and ρ is mass density"
      ],
      "metadata": {
        "id": "ZQTikzWRdaA0"
      }
    },
    {
      "cell_type": "markdown",
      "source": [
        "The operator $\\nabla^2 = \\frac{d^2}{dx^2} + \\frac{d^2}{dy^2}$  \n",
        "\n",
        "is called the *Laplacian*. It will appear in many of our\n",
        "subsequent investigations."
      ],
      "metadata": {
        "id": "knbezAyxdd3K"
      }
    },
    {
      "cell_type": "markdown",
      "source": [
        "The fact that we are keeping the edges of the membrane fixed is expressed by the boundary conditions."
      ],
      "metadata": {
        "id": "Ge5LWuLxdhYc"
      }
    },
    {
      "cell_type": "markdown",
      "source": [
        "$u(0,y,t) = u(a,y,t) =0$       where                       $0 < y < b, t > 0,$\n",
        "\n",
        "$u(x,0,t) = u(x,b,t) =0$       where                       $0 < x < a, t > 0,$"
      ],
      "metadata": {
        "id": "x-No1HdddnQe"
      }
    },
    {
      "cell_type": "markdown",
      "source": [
        "We must also specify how the membrane is initially deformed and\n",
        "set into motion. This is done via the initial conditions"
      ],
      "metadata": {
        "id": "x-uMpfZldwar"
      }
    },
    {
      "cell_type": "markdown",
      "source": [
        "$u(x,y,0) = f(x,y)$       where                       $(x,y) \\epsilon R $\n",
        "\n",
        "$u(x,y,0) = g(x,y)$      where                       $(x,y) \\epsilon R$\n",
        "\n",
        "where $R = [0,a] * [0, b]$"
      ],
      "metadata": {
        "id": "ZNEw8D_Qd5g_"
      }
    },
    {
      "cell_type": "markdown",
      "source": [
        "Goal: Write down a solution to the wave equation (1) subject to\n",
        "the boundary conditions (2) and initial conditions (3\n",
        "\n",
        "Process:\n",
        "1. using separation of variables to produce simple solutions to\n",
        "(1) and (2.\n",
        "\n",
        "2. and then the principle of superposition to build up a\n",
        "solution that satisfies (3) as well.ll.)"
      ],
      "metadata": {
        "id": "QR7zWNFDeAQf"
      }
    },
    {
      "cell_type": "markdown",
      "source": [
        "Assembling our results, we find"
      ],
      "metadata": {
        "id": "wqarW4RNeErk"
      }
    },
    {
      "cell_type": "markdown",
      "source": [
        "$Umn(x,y,t) = Xm(x)Yn(y)T(mn)(t)  = sin \\mu x sin vnY(B(mn) cos \\lambda (mn)t + B*mn sin\\lambda (mn)t)$"
      ],
      "metadata": {
        "id": "uf0GVbhzeUz1"
      }
    },
    {
      "cell_type": "markdown",
      "source": [
        "where\n",
        "\n",
        "$\\mu m = \\frac{m\\pi}{a}, Vn = {n\\pi}{b}, \\lambda mn = c \\sqrt{\\mu^2m + v^2n} $"
      ],
      "metadata": {
        "id": "I-mbOI2GeiBY"
      }
    },
    {
      "cell_type": "markdown",
      "source": [
        "To solve the 2D wave equation using separation of variables, we assume that the solution can be written as a product of functions, each depending on a single coordinate. Specifically, we look for solutions of the form:"
      ],
      "metadata": {
        "id": "JSwTnFQgejUu"
      }
    },
    {
      "cell_type": "markdown",
      "source": [
        "$ u_(x,y,t)=X_(x)Y_(y)T_(t)$\n",
        "\n",
        "Substituting this into the 2D wave equation\n",
        "\n",
        "$ u_tt =c^2(u_xx +u_yy) $\n",
        "\n",
        "yields:\n",
        "\n",
        "$ X_(x)Y_(y)T′′(t)=c^2[X′′_(x)Y_(y)T_(t)+X_(x)Y′′_(y)T_(t)] $\n",
        "\n",
        "Dividing through by $𝑋_𝑥𝑌_𝑦𝑇_𝑡X_xY_yT_t$ gives:\n",
        "\n",
        "$ \\frac{T''_t}{c^2T_t} = \\frac{X''_x}{X_x} + \\frac{Y_y}{Y_y} $\n",
        "\n",
        "Since the left-hand side depends only on 𝑡 and the right-hand side depends only on 𝑥 and 𝑦 both sides must be equal to a constant. Let’s call this constant −𝜆. Thus, we have:\n",
        "\n",
        "$ \\frac{T''_t}{c^2T_t} = -\\lambda $\n",
        "\n",
        "and\n",
        "\n",
        "$ \\frac{X''_x }{ X_x} + \\frac{Y_y}{Y_y} = -\\lambda $\n",
        "\n",
        "let's set:\n",
        "\n",
        "$ \\frac{X''_x}{ X_x} =-\\mu $\n",
        "\n",
        "$ \\frac{Y_y}{Y_y} = -(\\lambda - \\mu) $"
      ],
      "metadata": {
        "id": "_7LgpGkbewCQ"
      }
    },
    {
      "cell_type": "markdown",
      "source": [
        "where 𝜇 is another separation constant. This gives us three ordinary differential equations:\n",
        "\n",
        "Temporal equation:\n",
        "\n",
        "$ T''_t + c^2 \\lambda T_t = 0 $\n",
        "\n",
        "Spatial equation in 𝑥:\n",
        "\n",
        "$ X''_x + \\mu X_x = 0 $\n",
        "\n",
        "Spatial equation in 𝑦:\n",
        "\n",
        "$ Y''_y + (\\lambda - \\mu)Y_y = 0 $"
      ],
      "metadata": {
        "id": "1yHsu33xexzi"
      }
    },
    {
      "cell_type": "code",
      "source": [],
      "metadata": {
        "id": "SeO_LkZ4evKi"
      },
      "execution_count": null,
      "outputs": []
    },
    {
      "cell_type": "markdown",
      "source": [
        "Solving the Temporal Equation\n",
        "\n",
        "$ T′′_t+c^2λT_t=0 $\n",
        "\n",
        "This is a simple harmonic oscillator equation. The general solution is:\n",
        "\n",
        "$T_t =Acos(ωt)+Bsin(ωt)$\n",
        "\n",
        "where $ ω = c\\sqrt {\\lambda}$\n",
        "\n",
        "Solving the Spatial Equation in 𝑥\n",
        "\n",
        "$ X′′_x+μX_x=0 $\n",
        "\n",
        "This is also a simple harmonic oscillator equation. The general solution is:\n",
        "\n",
        "$ X(x)= Ccos\\sqrt{(μx)}+Dsin\\sqrt{(μx)} $\n",
        "\n",
        "Given the boundary conditions $u(0,y,t) = 0 and u(a,y,t) = 0 $:\n",
        "\n",
        "$X(0) = 0  ==> C = 0$\n",
        "\n",
        "$X(a) = 0 ==> Dsin\\sqrt{(μa)} = 0$\n",
        "\n",
        "For a nontrivial solution, $sin\\sqrt{(μa)} = 0 $, which gives:\n",
        "\n",
        "$\\sqrt{(μa)} = n\\pi ==> \\mu= (n\\pi / a)^2 $\n",
        "\n",
        "for n = 1,2,3,....\n",
        "\n",
        "so,\n",
        "\n",
        "$ X_n x = D_n sin (\\frac{n\\pi x} {a}) $"
      ],
      "metadata": {
        "id": "M7mJGj-2e3Fm"
      }
    },
    {
      "cell_type": "markdown",
      "source": [
        "Now solving the Spatial Equation in y"
      ],
      "metadata": {
        "id": "c9VlkKPPfB6z"
      }
    },
    {
      "cell_type": "markdown",
      "source": [
        "##### Looking at the::\n",
        "\n",
        "The equation d^2rp/dt^2 -c^2 d^2rp/dr^2 =0 represents a wave equation that describes wave propagation in 2D space and time. In the context of noise transmission through air, this equation can represent the behavior of pressure disturbances generated by a point source in quiescent air or moving air."
      ],
      "metadata": {
        "id": "BODD2_AHfDfk"
      }
    },
    {
      "cell_type": "markdown",
      "source": [
        "The equation\n",
        "\n",
        "$\\frac{d^2 \\Psi}{dt^2} - {C^2}\\frac{d^2 \\Psi}{dr^2}  = 0$ is a form of the wave equation, often encountered in the context of radial wave propagation in 2D or 3D spaces. Here, $r_p$ typically represents the pressure disturbance (or another physical quantity) as a function of time 𝑡 and radial distance\n",
        "𝑟 from the source, and 𝑐 is the wave speed.\n",
        "\n",
        "To solve this wave equation, we typically use methods suitable for handling problems with radial symmetry. One common approach is to use a separation of variables method, assuming a solution of the form:\n",
        "\n",
        "$r_p(r,t) = R_rT_t $\n",
        "\n",
        "Substituting this into the wave equation gives:\n",
        "\n",
        "$R_r\\frac{d^2T_t}{dt^2} - c^2T_t \\frac{d^2R_r}{dr^2} = 0 $\n",
        "\n",
        "Dividing by $R_rT_t$ and separating variables yields:\n",
        "\n",
        "$ \\frac{1}{T_t}\\frac{d^2T_t}{dt^2} = c^2 \\frac{1}{R_r}\\frac{d^2R_r}{dr^2} = -\\lambda$\n",
        "\n",
        "where 𝜆 is a separation constant. This gives us two ordinary differential equations:\n",
        "\n",
        "**Temporal equation:**\n",
        "\n",
        "$\\frac{d^2T_t}{dt^2} + \\lambda T_t = 0$\n",
        "\n",
        "**Radial equation:**\n",
        "\n",
        "$\\frac{d^2R_r}{dr^2} + \\frac{\\lambda}{c^2} R_r = 0$"
      ],
      "metadata": {
        "id": "AdBiMkQafHv-"
      }
    },
    {
      "cell_type": "markdown",
      "source": [
        "### General Solution\n",
        "\n",
        "Combining these results, the general solution for $r_p(r,t) $is:\n",
        "\n",
        "$r_p(r,t) = [Ccos \\sqrt \\frac {\\lambda}{c}r + Dsin \\sqrt \\frac {\\lambda}{c}r][Acos \\sqrt {\\lambda}t + Bsin \\sqrt {\\lambda}t] $\n",
        "\n",
        "In the context of noise transmission in air, this describes how pressure disturbances propagate radially from a point source. Boundary and initial conditions specific to the problem at hand would allow for determination of the constants A,B,C and D"
      ],
      "metadata": {
        "id": "H0O4XMqRgPHd"
      }
    },
    {
      "cell_type": "markdown",
      "source": [
        "#### Physical Interpretation and Context\n",
        "\n",
        "In real-world applications, the specific form of $r_p(r,t)$ would be influenced by factors such as the nature of the source, the properties of the medium, and any external boundaries. For example, in the case of a point source in quiescent air, the solution might describe spherical waves radiating outward, with the disturbance decreasing with distance from the source.\n",
        "\n",
        "When considering noise transmission through moving air, additional terms may be required to account for the motion of the medium. This could lead to a more complex wave equation that incorporates the effects of advection and other factors associated with the movement of air."
      ],
      "metadata": {
        "id": "_llW_oaxgqJW"
      }
    },
    {
      "cell_type": "markdown",
      "source": [
        "The Harrow-Hassidim-Lloyd (HHL) algorithm is a quantum algorithm designed to solve linear systems of equations, and it can be applied to solve wave equations under certain conditions. The basic idea is to convert the differential equation into a linear system that the HHL algorithm can solve efficiently. Here is a step-by-step outline of how you could use the HHL algorithm to solve the wave equation, starting from the continuous form of the equation:"
      ],
      "metadata": {
        "id": "vFR4C--yguQJ"
      }
    },
    {
      "cell_type": "markdown",
      "source": [
        "##### After the use of separating variables"
      ],
      "metadata": {
        "id": "BJTDwr__gzt2"
      }
    },
    {
      "cell_type": "markdown",
      "source": [
        "To solve the wave equation $\\frac{d^2 \\Psi}{dt^2} - {C^2}\\frac{d^2 \\Psi}{dr^2}  = 0$ using the Harrow-Hassidim-Lloyd (HHL) algorithm, we need to convert this partial differential equation (PDE) into a linear system of equations. The HHL algorithm is designed to solve linear systems of the form.  Ax=b, so we'll discretize the PDE and transform it into a form suitable for the HHL algorithm."
      ],
      "metadata": {
        "id": "4Th4ix7Mg4IZ"
      }
    },
    {
      "cell_type": "markdown",
      "source": [
        "##### Step-by-Step Process\n",
        "\n",
        "1. Discretize the Wave Equation:  $r_p(r,t+Δt)=2r_p(r,t)−r_p(r,t−Δt)+c^2Δr^2Δt^2(r_p(r+Δr,t)−2r_p(r,t)+r_p(r−Δr,t))$\n",
        "2. Formulate the Linear System:  The discretized wave equation can be written in matrix form of $Au(t)=b(t)$ Here, 𝑢(𝑡)is the vector of $𝑟_𝑝$\n",
        "values at all spatial grid points at time 𝑡, and 𝐴and 𝑏(𝑡)are defined as: $A = \\frac{1}{Δt^2}I - \\frac{c^2}{Δr^2}L$\n",
        "\n",
        "$b(t) = \\frac{2}{Δt^2}u(t) - \\frac{1}{Δt^2}u(t-Δt)$\n",
        "\n",
        "3. Quantum State Preparation:\n",
        "\n",
        "Encode the vector b(t) as a quantum state. This step involves preparing the quantum register with the initial state representing b(t).\n",
        "\n",
        "4. Apply the HHL Algorithm:"
      ],
      "metadata": {
        "id": "h1Fxvuhpg74u"
      }
    },
    {
      "cell_type": "code",
      "source": [],
      "metadata": {
        "id": "_wJUqavGeZqw"
      },
      "execution_count": null,
      "outputs": []
    },
    {
      "cell_type": "markdown",
      "source": [
        "# 3. Project Execution (5-6 minutes)"
      ],
      "metadata": {
        "id": "mK7-21fghOJx"
      }
    },
    {
      "cell_type": "markdown",
      "source": [
        "_______\n",
        "Part-1 --> Implementing HHL algorithm\n",
        "_______\n",
        "Part-2 --> Using HHl algorithm for solving Wave equation in 1D using Implicit Finite Difference Method\n",
        "______\n",
        "Part-3 --> Extending this approach for any arbitary dimensions and solving for 2D Wave simulation\n",
        "_______"
      ],
      "metadata": {
        "id": "5TGd596KhgKA"
      }
    },
    {
      "cell_type": "code",
      "source": [],
      "metadata": {
        "id": "0bBya05MhPYY"
      },
      "execution_count": null,
      "outputs": []
    },
    {
      "cell_type": "markdown",
      "source": [
        "# 4. Conclusion (3-4 minutes)"
      ],
      "metadata": {
        "id": "f0LX7q83jtuj"
      }
    },
    {
      "cell_type": "markdown",
      "source": [
        "##### In conclusion, our project explored the powerful potential of quantum computing by applying the Harrow-Hassidim-Lloyd (HHL) algorithm to solve wave equations, a fundamental problem in physics. We demonstrated how this quantum approach could offer exponential speedups over classical methods, especially as we scale up to more complex systems.Throughout our journey, we tackled various challenges, from constructing a approach that could solve wave equation in any dimension using HHl algorithm to managing errors, ultimately achieving promising results that highlight the future potential of quantum algorithms in scientific computing and *computational physics*.\n",
        "\n",
        "##### Looking ahead, we see immense opportunities for refining this work, such as improving scalability and exploring broader applications in fields like quantum chemistry and computational fluid dynamics and structural analysis. Our project is just a small step toward realizing the full capabilities of quantum computing in solving real-world problems, and we’re excited about the future possibilities this technology holds.\n",
        "\n",
        "Thank you for your attention. We’re happy to take any questions you might have."
      ],
      "metadata": {
        "id": "2rHeFouzgTWk"
      }
    },
    {
      "cell_type": "code",
      "source": [],
      "metadata": {
        "id": "A0M121ftjvEv"
      },
      "execution_count": null,
      "outputs": []
    },
    {
      "cell_type": "markdown",
      "source": [
        "# 5. Q&A Session (5 minutes)"
      ],
      "metadata": {
        "id": "Wsphq0hYkWyJ"
      }
    }
  ]
}