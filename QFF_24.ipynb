{
  "nbformat": 4,
  "nbformat_minor": 0,
  "metadata": {
    "colab": {
      "provenance": [],
      "authorship_tag": "ABX9TyNZDgjvMi6DRwF9/aceTADR",
      "include_colab_link": true
    },
    "kernelspec": {
      "name": "python3",
      "display_name": "Python 3"
    },
    "language_info": {
      "name": "python"
    }
  },
  "cells": [
    {
      "cell_type": "markdown",
      "metadata": {
        "id": "view-in-github",
        "colab_type": "text"
      },
      "source": [
        "<a href=\"https://colab.research.google.com/github/jajapuramshivasai/Q24_2/blob/main/QFF_24.ipynb\" target=\"_parent\"><img src=\"https://colab.research.google.com/assets/colab-badge.svg\" alt=\"Open In Colab\"/></a>"
      ]
    },
    {
      "cell_type": "code",
      "source": [
        "\n",
        "%pip install qiskit[visualization]\n",
        "%pip install qiskit\n",
        "%pip install graphviz\n"
      ],
      "metadata": {
        "colab": {
          "base_uri": "https://localhost:8080/"
        },
        "id": "5oa3O1vZyc9a",
        "outputId": "74b43fe2-2a20-4df4-9d58-33e2e2b07266"
      },
      "execution_count": 1,
      "outputs": [
        {
          "output_type": "stream",
          "name": "stdout",
          "text": [
            "Collecting qiskit[visualization]\n",
            "  Downloading qiskit-1.2.4-cp38-abi3-manylinux_2_17_x86_64.manylinux2014_x86_64.whl.metadata (12 kB)\n",
            "Collecting rustworkx>=0.15.0 (from qiskit[visualization])\n",
            "  Downloading rustworkx-0.15.1-cp38-abi3-manylinux_2_17_x86_64.manylinux2014_x86_64.whl.metadata (9.9 kB)\n",
            "Requirement already satisfied: numpy<3,>=1.17 in /usr/local/lib/python3.10/dist-packages (from qiskit[visualization]) (1.26.4)\n",
            "Requirement already satisfied: scipy>=1.5 in /usr/local/lib/python3.10/dist-packages (from qiskit[visualization]) (1.13.1)\n",
            "Requirement already satisfied: sympy>=1.3 in /usr/local/lib/python3.10/dist-packages (from qiskit[visualization]) (1.13.3)\n",
            "Collecting dill>=0.3 (from qiskit[visualization])\n",
            "  Downloading dill-0.3.9-py3-none-any.whl.metadata (10 kB)\n",
            "Requirement already satisfied: python-dateutil>=2.8.0 in /usr/local/lib/python3.10/dist-packages (from qiskit[visualization]) (2.8.2)\n",
            "Collecting stevedore>=3.0.0 (from qiskit[visualization])\n",
            "  Downloading stevedore-5.3.0-py3-none-any.whl.metadata (2.3 kB)\n",
            "Requirement already satisfied: typing-extensions in /usr/local/lib/python3.10/dist-packages (from qiskit[visualization]) (4.12.2)\n",
            "Collecting symengine<0.14,>=0.11 (from qiskit[visualization])\n",
            "  Downloading symengine-0.13.0-cp310-cp310-manylinux_2_17_x86_64.manylinux2014_x86_64.whl.metadata (1.2 kB)\n",
            "Requirement already satisfied: matplotlib>=3.3 in /usr/local/lib/python3.10/dist-packages (from qiskit[visualization]) (3.7.1)\n",
            "Requirement already satisfied: pydot in /usr/local/lib/python3.10/dist-packages (from qiskit[visualization]) (3.0.2)\n",
            "Requirement already satisfied: Pillow>=4.2.1 in /usr/local/lib/python3.10/dist-packages (from qiskit[visualization]) (10.4.0)\n",
            "Collecting pylatexenc>=1.4 (from qiskit[visualization])\n",
            "  Downloading pylatexenc-2.10.tar.gz (162 kB)\n",
            "\u001b[2K     \u001b[90m━━━━━━━━━━━━━━━━━━━━━━━━━━━━━━━━━━━━━━━━\u001b[0m \u001b[32m162.6/162.6 kB\u001b[0m \u001b[31m2.5 MB/s\u001b[0m eta \u001b[36m0:00:00\u001b[0m\n",
            "\u001b[?25h  Preparing metadata (setup.py) ... \u001b[?25l\u001b[?25hdone\n",
            "Requirement already satisfied: seaborn>=0.9.0 in /usr/local/lib/python3.10/dist-packages (from qiskit[visualization]) (0.13.2)\n",
            "Requirement already satisfied: contourpy>=1.0.1 in /usr/local/lib/python3.10/dist-packages (from matplotlib>=3.3->qiskit[visualization]) (1.3.0)\n",
            "Requirement already satisfied: cycler>=0.10 in /usr/local/lib/python3.10/dist-packages (from matplotlib>=3.3->qiskit[visualization]) (0.12.1)\n",
            "Requirement already satisfied: fonttools>=4.22.0 in /usr/local/lib/python3.10/dist-packages (from matplotlib>=3.3->qiskit[visualization]) (4.54.1)\n",
            "Requirement already satisfied: kiwisolver>=1.0.1 in /usr/local/lib/python3.10/dist-packages (from matplotlib>=3.3->qiskit[visualization]) (1.4.7)\n",
            "Requirement already satisfied: packaging>=20.0 in /usr/local/lib/python3.10/dist-packages (from matplotlib>=3.3->qiskit[visualization]) (24.1)\n",
            "Requirement already satisfied: pyparsing>=2.3.1 in /usr/local/lib/python3.10/dist-packages (from matplotlib>=3.3->qiskit[visualization]) (3.2.0)\n",
            "Requirement already satisfied: six>=1.5 in /usr/local/lib/python3.10/dist-packages (from python-dateutil>=2.8.0->qiskit[visualization]) (1.16.0)\n",
            "Requirement already satisfied: pandas>=1.2 in /usr/local/lib/python3.10/dist-packages (from seaborn>=0.9.0->qiskit[visualization]) (2.2.2)\n",
            "Collecting pbr>=2.0.0 (from stevedore>=3.0.0->qiskit[visualization])\n",
            "  Downloading pbr-6.1.0-py2.py3-none-any.whl.metadata (3.4 kB)\n",
            "Requirement already satisfied: mpmath<1.4,>=1.1.0 in /usr/local/lib/python3.10/dist-packages (from sympy>=1.3->qiskit[visualization]) (1.3.0)\n",
            "Requirement already satisfied: pytz>=2020.1 in /usr/local/lib/python3.10/dist-packages (from pandas>=1.2->seaborn>=0.9.0->qiskit[visualization]) (2024.2)\n",
            "Requirement already satisfied: tzdata>=2022.7 in /usr/local/lib/python3.10/dist-packages (from pandas>=1.2->seaborn>=0.9.0->qiskit[visualization]) (2024.2)\n",
            "Downloading dill-0.3.9-py3-none-any.whl (119 kB)\n",
            "\u001b[2K   \u001b[90m━━━━━━━━━━━━━━━━━━━━━━━━━━━━━━━━━━━━━━━━\u001b[0m \u001b[32m119.4/119.4 kB\u001b[0m \u001b[31m6.3 MB/s\u001b[0m eta \u001b[36m0:00:00\u001b[0m\n",
            "\u001b[?25hDownloading rustworkx-0.15.1-cp38-abi3-manylinux_2_17_x86_64.manylinux2014_x86_64.whl (2.0 MB)\n",
            "\u001b[2K   \u001b[90m━━━━━━━━━━━━━━━━━━━━━━━━━━━━━━━━━━━━━━━━\u001b[0m \u001b[32m2.0/2.0 MB\u001b[0m \u001b[31m32.7 MB/s\u001b[0m eta \u001b[36m0:00:00\u001b[0m\n",
            "\u001b[?25hDownloading stevedore-5.3.0-py3-none-any.whl (49 kB)\n",
            "\u001b[2K   \u001b[90m━━━━━━━━━━━━━━━━━━━━━━━━━━━━━━━━━━━━━━━━\u001b[0m \u001b[32m49.7/49.7 kB\u001b[0m \u001b[31m3.2 MB/s\u001b[0m eta \u001b[36m0:00:00\u001b[0m\n",
            "\u001b[?25hDownloading symengine-0.13.0-cp310-cp310-manylinux_2_17_x86_64.manylinux2014_x86_64.whl (49.7 MB)\n",
            "\u001b[2K   \u001b[90m━━━━━━━━━━━━━━━━━━━━━━━━━━━━━━━━━━━━━━━━\u001b[0m \u001b[32m49.7/49.7 MB\u001b[0m \u001b[31m15.6 MB/s\u001b[0m eta \u001b[36m0:00:00\u001b[0m\n",
            "\u001b[?25hDownloading qiskit-1.2.4-cp38-abi3-manylinux_2_17_x86_64.manylinux2014_x86_64.whl (4.8 MB)\n",
            "\u001b[2K   \u001b[90m━━━━━━━━━━━━━━━━━━━━━━━━━━━━━━━━━━━━━━━━\u001b[0m \u001b[32m4.8/4.8 MB\u001b[0m \u001b[31m65.6 MB/s\u001b[0m eta \u001b[36m0:00:00\u001b[0m\n",
            "\u001b[?25hDownloading pbr-6.1.0-py2.py3-none-any.whl (108 kB)\n",
            "\u001b[2K   \u001b[90m━━━━━━━━━━━━━━━━━━━━━━━━━━━━━━━━━━━━━━━━\u001b[0m \u001b[32m108.5/108.5 kB\u001b[0m \u001b[31m8.1 MB/s\u001b[0m eta \u001b[36m0:00:00\u001b[0m\n",
            "\u001b[?25hBuilding wheels for collected packages: pylatexenc\n",
            "  Building wheel for pylatexenc (setup.py) ... \u001b[?25l\u001b[?25hdone\n",
            "  Created wheel for pylatexenc: filename=pylatexenc-2.10-py3-none-any.whl size=136816 sha256=77e3d11feae9766a51669a6fdc35951d8f63be9ab1a941b793d4682315f9ee95\n",
            "  Stored in directory: /root/.cache/pip/wheels/d3/31/8b/e09b0386afd80cfc556c00408c9aeea5c35c4d484a9c762fd5\n",
            "Successfully built pylatexenc\n",
            "Installing collected packages: pylatexenc, symengine, rustworkx, pbr, dill, stevedore, qiskit\n",
            "Successfully installed dill-0.3.9 pbr-6.1.0 pylatexenc-2.10 qiskit-1.2.4 rustworkx-0.15.1 stevedore-5.3.0 symengine-0.13.0\n",
            "Requirement already satisfied: qiskit in /usr/local/lib/python3.10/dist-packages (1.2.4)\n",
            "Requirement already satisfied: rustworkx>=0.15.0 in /usr/local/lib/python3.10/dist-packages (from qiskit) (0.15.1)\n",
            "Requirement already satisfied: numpy<3,>=1.17 in /usr/local/lib/python3.10/dist-packages (from qiskit) (1.26.4)\n",
            "Requirement already satisfied: scipy>=1.5 in /usr/local/lib/python3.10/dist-packages (from qiskit) (1.13.1)\n",
            "Requirement already satisfied: sympy>=1.3 in /usr/local/lib/python3.10/dist-packages (from qiskit) (1.13.3)\n",
            "Requirement already satisfied: dill>=0.3 in /usr/local/lib/python3.10/dist-packages (from qiskit) (0.3.9)\n",
            "Requirement already satisfied: python-dateutil>=2.8.0 in /usr/local/lib/python3.10/dist-packages (from qiskit) (2.8.2)\n",
            "Requirement already satisfied: stevedore>=3.0.0 in /usr/local/lib/python3.10/dist-packages (from qiskit) (5.3.0)\n",
            "Requirement already satisfied: typing-extensions in /usr/local/lib/python3.10/dist-packages (from qiskit) (4.12.2)\n",
            "Requirement already satisfied: symengine<0.14,>=0.11 in /usr/local/lib/python3.10/dist-packages (from qiskit) (0.13.0)\n",
            "Requirement already satisfied: six>=1.5 in /usr/local/lib/python3.10/dist-packages (from python-dateutil>=2.8.0->qiskit) (1.16.0)\n",
            "Requirement already satisfied: pbr>=2.0.0 in /usr/local/lib/python3.10/dist-packages (from stevedore>=3.0.0->qiskit) (6.1.0)\n",
            "Requirement already satisfied: mpmath<1.4,>=1.1.0 in /usr/local/lib/python3.10/dist-packages (from sympy>=1.3->qiskit) (1.3.0)\n",
            "Requirement already satisfied: graphviz in /usr/local/lib/python3.10/dist-packages (0.20.3)\n"
          ]
        }
      ]
    },
    {
      "cell_type": "code",
      "source": [
        "\n",
        "\"\"\"\n",
        "import other basic stuff\n",
        "\"\"\"\n",
        "#required for this problem\n",
        "\n",
        "from qiskit.visualization import plot_circuit_layout\n",
        "from qiskit import QuantumCircuit\n",
        "\n",
        "import random\n",
        "import matplotlib.pyplot as plt\n"
      ],
      "metadata": {
        "id": "9eg94gt70PMb"
      },
      "execution_count": 2,
      "outputs": []
    },
    {
      "cell_type": "markdown",
      "source": [
        "#Question#"
      ],
      "metadata": {
        "id": "DUCf1_Fi5n0F"
      }
    },
    {
      "cell_type": "markdown",
      "source": [
        "## 4. Designing a Random Quantum Circuit Generator (10 Marks)\n",
        "\n",
        "### Background\n",
        "\n",
        "Quantum circuits serve as fundamental building blocks for various quantum algorithms and simulations. Generating random quantum circuits can help explore the behavior of quantum systems and test quantum computing architectures. A random quantum circuit typically consists of a sequence of gates acting on qubits, chosen randomly from a predefined set of gates.\n",
        "\n",
        "### Challenge\n",
        "\n",
        "In this challenge, you are tasked with designing a function that generates a random quantum circuit. The function should take the following parameters:\n",
        "\n",
        "- `num_qubits` (`int`): The number of qubits in the quantum circuit.\n",
        "- `num_layers` (`int`): The number of layers or depths of gates to be applied in the circuit.\n",
        "- `gate_set` (`list`): A list containing the set of quantum gates to be used in the circuit. Each gate can be either a single-qubit gate or a two-qubit gate. The gate set defines the available operations that can be applied to the qubits in the circuit.\n",
        "\n",
        "You need to implement the following function:\n",
        "\n",
        "- `random_circuit_generator(num_qubits, num_layers, gate_set)`: This function should generate a random quantum circuit based on the provided parameters. The gates should be applied randomly across the qubits and layers according to the gate set provided.\n",
        "\n",
        "### Input\n",
        "\n",
        "The input to this problem includes:\n",
        "\n",
        "- `num_qubits` (`int`): The number of qubits in the quantum circuit.\n",
        "- `num_layers` (`int`): The number of layers or depths of gates to be applied in the circuit.\n",
        "- `gate_set` (`list`): A list containing the set of quantum gates to be used in the circuit. Each gate can be either a single-qubit gate or a two-qubit gate. The gate set defines the available operations that can be applied to the qubits in the circuit.\n",
        "\n",
        "### Output\n",
        "\n",
        "The output of the function should be a quantum circuit object representing the random quantum circuit generated based on the provided parameters.\n",
        "\n",
        "The specific quantum programming library used will determine the basis gates, so consider all the possible basis gates while designing the function.\n",
        "\n",
        "### Example\n",
        "\n",
        "Consider an example where `num_qubits = 3`, `num_layers = 2`, and `gate_set = ['h', 'cx']`.\n",
        "\n",
        "- `num_qubits = 3` indicates a quantum circuit with 3 qubits.\n",
        "- `num_layers = 2` specifies that the quantum circuit will consist of 2 layers of gates.\n",
        "- `gate_set = ['h', 'cx']` defines the available gates as the Hadamard gate (`'h'`) and the Controlled-X (CNOT) gate (`'cx'`).\n",
        "\n",
        "```python\n",
        "num_qubits = 3\n",
        "num_layers = 2\n",
        "gate_set = ['h', 'cx']\n",
        "\n",
        "circuit = random_circuit_generator(num_qubits, num_layers, gate_set)\n",
        "circuit.draw(\"mpl\")\n"
      ],
      "metadata": {
        "id": "iIcYg2MJwnqI"
      }
    },
    {
      "cell_type": "code",
      "source": [
        "\n",
        "# The random circuit generator function\n",
        "def random_circuit_generator(num_qubits, num_layers, gate_set):\n",
        "\n",
        "\n",
        "    circuit = QuantumCircuit(num_qubits)\n",
        "\n",
        "    for _ in range(num_layers):\n",
        "        gate = random.choice(gate_set)\n",
        "\n",
        "        if gate == 'h':  # Hadamard gate\n",
        "            qubit = random.randint(0, num_qubits - 1)\n",
        "            circuit.h(qubit)\n",
        "        elif gate == 'cx':  # CNOT gate\n",
        "            qubit1 = random.randint(0, num_qubits - 1)\n",
        "            qubit2 = random.randint(0, num_qubits - 1)\n",
        "            while qubit1 == qubit2:\n",
        "                qubit2 = random.randint(0, num_qubits - 1)\n",
        "            circuit.cx(qubit1, qubit2)\n",
        "        elif gate == 'x':  # Pauli-X gate\n",
        "            qubit = random.randint(0, num_qubits - 1)\n",
        "            circuit.x(qubit)\n",
        "        elif gate == 'y':  # Pauli-Y gate\n",
        "            qubit = random.randint(0, num_qubits - 1)\n",
        "            circuit.y(qubit)\n",
        "        elif gate == 'z':  # Pauli-Z gate\n",
        "            qubit = random.randint(0, num_qubits - 1)\n",
        "            circuit.z(qubit)\n",
        "        elif gate == 'rz':  # RZ rotation\n",
        "            qubit = random.randint(0, num_qubits - 1)\n",
        "            theta = random.uniform(0, 2 * 3.1415)  # Random angle for rotation\n",
        "            circuit.rz(theta, qubit)\n",
        "\n",
        "    return circuit"
      ],
      "metadata": {
        "id": "AVNTdzHbwoPP"
      },
      "execution_count": 9,
      "outputs": []
    },
    {
      "cell_type": "code",
      "source": [
        "num_qubits = 2\n",
        "num_layers = 2\n",
        "gate_set = ['h', 'cx']\n",
        "circuit = random_circuit_generator(num_qubits, num_layers, gate_set)\n",
        "circuit.draw(\"mpl\")"
      ],
      "metadata": {
        "colab": {
          "base_uri": "https://localhost:8080/",
          "height": 191
        },
        "id": "ZMP682s3FGfJ",
        "outputId": "3a638b81-beb9-4990-c268-d6f31bd604ee"
      },
      "execution_count": 12,
      "outputs": [
        {
          "output_type": "execute_result",
          "data": {
            "text/plain": [
              "<Figure size 287.294x200.667 with 1 Axes>"
            ],
            "image/png": "[encoded data removed]"
          },
          "metadata": {},
          "execution_count": 12
        }
      ]
    },
    {
      "cell_type": "markdown",
      "source": [
        "#Test your solution"
      ],
      "metadata": {
        "id": "wtW_X2I2xFLl"
      }
    },
    {
      "cell_type": "code",
      "source": [
        "test_cases = {\n",
        "    \"Test Case 1\": {\"num_qubits\": 1, \"num_layers\": 1, \"gate_set\": ['h']},\n",
        "    \"Test Case 2\": {\"num_qubits\": 2, \"num_layers\": 2, \"gate_set\": ['h', 'cx']},\n",
        "    \"Test Case 3\": {\"num_qubits\": 3, \"num_layers\": 3, \"gate_set\": ['h', 'cx', 'rz']},\n",
        "    \"Test Case 4\": {\"num_qubits\": 4, \"num_layers\": 4, \"gate_set\": ['h', 'cx', 'x', 'y', 'z']},\n",
        "    \"Test Case 5\": {\"num_qubits\": 5, \"num_layers\": 5, \"gate_set\": ['h', 'cx', 'rz']},\n",
        "    \"Test Case 6\": {\"num_qubits\": 1, \"num_layers\": 3, \"gate_set\": ['h', 'x', 'y', 'z']},\n",
        "}\n",
        "\n",
        "# Automate the testing\n",
        "for test, params in test_cases.items():\n",
        "    print(f\"Running {test}:\")\n",
        "\n",
        "    try:\n",
        "        circuit = random_circuit_generator(\n",
        "            num_qubits=params[\"num_qubits\"],\n",
        "            num_layers=params[\"num_layers\"],\n",
        "            gate_set=params[\"gate_set\"]\n",
        "        )\n",
        "        print(circuit)\n",
        "        # circuit.draw(\"mpl\")\n",
        "    except Exception as e:\n",
        "        print(f\"Error in {test}: {e}\")\n",
        "\n",
        "    print(\"\\n\" + \"=\"*40 + \"\\n\")"
      ],
      "metadata": {
        "colab": {
          "base_uri": "https://localhost:8080/"
        },
        "id": "qNmT9jBcxKjm",
        "outputId": "a25a452f-cb7b-4d37-e259-8d6fccb5d558"
      },
      "execution_count": 14,
      "outputs": [
        {
          "output_type": "stream",
          "name": "stdout",
          "text": [
            "Running Test Case 1:\n",
            "   ┌───┐\n",
            "q: ┤ H ├\n",
            "   └───┘\n",
            "\n",
            "========================================\n",
            "\n",
            "Running Test Case 2:\n",
            "     ┌───┐┌───┐\n",
            "q_0: ┤ H ├┤ H ├\n",
            "     └───┘└───┘\n",
            "q_1: ──────────\n",
            "               \n",
            "\n",
            "========================================\n",
            "\n",
            "Running Test Case 3:\n",
            "     ┌───┐┌─────────────┐\n",
            "q_0: ┤ H ├┤ Rz(0.98168) ├\n",
            "     └───┘└─────────────┘\n",
            "q_1: ────────────────────\n",
            "     ┌───┐               \n",
            "q_2: ┤ H ├───────────────\n",
            "     └───┘               \n",
            "\n",
            "========================================\n",
            "\n",
            "Running Test Case 4:\n",
            "     ┌───┐     ┌───┐┌───┐\n",
            "q_0: ┤ Z ├──■──┤ X ├┤ Z ├\n",
            "     └───┘  │  └─┬─┘└───┘\n",
            "q_1: ───────┼────┼───────\n",
            "          ┌─┴─┐  │       \n",
            "q_2: ─────┤ X ├──┼───────\n",
            "          └───┘  │       \n",
            "q_3: ────────────■───────\n",
            "                         \n",
            "\n",
            "========================================\n",
            "\n",
            "Running Test Case 5:\n",
            "     ┌───────────┐                   \n",
            "q_0: ┤ Rz(4.834) ├───────────────────\n",
            "     ├───────────┤     ┌────────────┐\n",
            "q_1: ┤ Rz(3.807) ├──■──┤ Rz(3.5732) ├\n",
            "     ├───────────┤  │  └────────────┘\n",
            "q_2: ┤ Rz(4.189) ├──┼────────────────\n",
            "     └───────────┘┌─┴─┐              \n",
            "q_3: ─────────────┤ X ├──────────────\n",
            "                  └───┘              \n",
            "q_4: ────────────────────────────────\n",
            "                                     \n",
            "\n",
            "========================================\n",
            "\n",
            "Running Test Case 6:\n",
            "   ┌───┐┌───┐┌───┐\n",
            "q: ┤ X ├┤ Y ├┤ Z ├\n",
            "   └───┘└───┘└───┘\n",
            "\n",
            "========================================\n",
            "\n"
          ]
        }
      ]
    },
    {
      "cell_type": "code",
      "source": [],
      "metadata": {
        "id": "DeHh48MOEtEF"
      },
      "execution_count": null,
      "outputs": []
    }
  ]
}